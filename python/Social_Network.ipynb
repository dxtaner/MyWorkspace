{
 "cells": [
  {
   "cell_type": "code",
   "execution_count": 1,
   "metadata": {},
   "outputs": [],
   "source": [
    "from typing import List\n",
    "from collections import Counter\n",
    "\n",
    "def get_top_k_recommended_friends(user_id: int, cutoff_k: int) -> List[int]:\n",
    "    # Step 1: Get the list of friends for the given user_id\n",
    "    user_friends = set(get_friends(user_id))\n",
    "\n",
    "    # Step 2: Get the list of friends for each of the user_id's friends\n",
    "    mutual_friends = []\n",
    "    for friend_id in user_friends:\n",
    "        friend_friends = set(get_friends(friend_id))\n",
    "        # Step 3: Calculate the number of mutual friends between each of the user_id's friend's friends and the original user_id\n",
    "        mutual = friend_friends.intersection(user_friends)\n",
    "        for mutual_friend in mutual:\n",
    "            if mutual_friend != user_id and mutual_friend not in user_friends:\n",
    "                mutual_friends.append(mutual_friend)\n",
    "\n",
    "    # Step 4: Sort the list of recommended friends based on the number of mutual friends in descending order\n",
    "    sorted_mutual_friends = [friend_id for friend_id, count in Counter(mutual_friends).most_common()]\n",
    "\n",
    "    # Step 5: Return the top k recommended friends\n",
    "    return sorted_mutual_friends[:cutoff_k]\n"
   ]
  },
  {
   "cell_type": "code",
   "execution_count": 2,
   "metadata": {},
   "outputs": [],
   "source": [
    "from typing import List\n",
    "def get_friends(user_id: int) -> List[int]:\n",
    "    # Assuming that the social network is stored in a dictionary of user_ids and their friends\n",
    "    social_network = {\n",
    "        1: [2, 3, 4],\n",
    "        2: [1, 3],\n",
    "        3: [1, 2, 4],\n",
    "        4: [1, 3,5],\n",
    "        5: [4,6],\n",
    "        6: [5]\n",
    "    }\n",
    "    \n",
    "    return social_network[user_id]\n"
   ]
  },
  {
   "cell_type": "code",
   "execution_count": 3,
   "metadata": {},
   "outputs": [
    {
     "name": "stdout",
     "output_type": "stream",
     "text": [
      "[5]\n",
      "[]\n"
     ]
    }
   ],
   "source": [
    "user_id = 6\n",
    "cutoff_k = 1\n",
    "user_friends = get_friends(user_id)\n",
    "recommended_friends = get_top_k_recommended_friends(user_id, cutoff_k)\n",
    "print(user_friends)\n",
    "print(recommended_friends)"
   ]
  },
  {
   "cell_type": "code",
   "execution_count": null,
   "metadata": {},
   "outputs": [],
   "source": [
    "\n"
   ]
  }
 ],
 "metadata": {
  "kernelspec": {
   "display_name": "Python 3",
   "language": "python",
   "name": "python3"
  },
  "language_info": {
   "codemirror_mode": {
    "name": "ipython",
    "version": 3
   },
   "file_extension": ".py",
   "mimetype": "text/x-python",
   "name": "python",
   "nbconvert_exporter": "python",
   "pygments_lexer": "ipython3",
   "version": "3.10.10"
  },
  "orig_nbformat": 4,
  "vscode": {
   "interpreter": {
    "hash": "486e0d5a79acdbfffd563ee7a67a93a5017bd2a4f66495483a69f0245c8a4a6c"
   }
  }
 },
 "nbformat": 4,
 "nbformat_minor": 2
}
